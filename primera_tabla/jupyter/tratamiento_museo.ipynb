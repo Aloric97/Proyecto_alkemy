{
 "cells": [
  {
   "cell_type": "code",
   "execution_count": 7,
   "id": "4e1ac9f5",
   "metadata": {
    "ExecuteTime": {
     "end_time": "2022-03-07T20:11:18.752444Z",
     "start_time": "2022-03-07T20:11:18.735381Z"
    }
   },
   "outputs": [],
   "source": [
    "import pandas as pd #usamos la libreria de pandas para tratar los datos"
   ]
  },
  {
   "cell_type": "code",
   "execution_count": 8,
   "id": "412e01f3",
   "metadata": {
    "ExecuteTime": {
     "end_time": "2022-03-07T20:11:19.116186Z",
     "start_time": "2022-03-07T20:11:19.083861Z"
    }
   },
   "outputs": [],
   "source": [
    "df1=pd.read_csv('museo.csv')"
   ]
  },
  {
   "cell_type": "code",
   "execution_count": 9,
   "id": "6bfed808",
   "metadata": {
    "ExecuteTime": {
     "end_time": "2022-03-07T20:11:19.414074Z",
     "start_time": "2022-03-07T20:11:19.365648Z"
    }
   },
   "outputs": [
    {
     "name": "stdout",
     "output_type": "stream",
     "text": [
      "<class 'pandas.core.frame.DataFrame'>\n",
      "RangeIndex: 1182 entries, 0 to 1181\n",
      "Data columns (total 24 columns):\n",
      " #   Column               Non-Null Count  Dtype  \n",
      "---  ------               --------------  -----  \n",
      " 0   Cod_Loc              1182 non-null   int64  \n",
      " 1   IdProvincia          1182 non-null   int64  \n",
      " 2   IdDepartamento       1182 non-null   int64  \n",
      " 3   Observaciones        0 non-null      float64\n",
      " 4   categoria            1182 non-null   object \n",
      " 5   subcategoria         1048 non-null   object \n",
      " 6   provincia            1182 non-null   object \n",
      " 7   localidad            1182 non-null   object \n",
      " 8   nombre               1182 non-null   object \n",
      " 9   direccion            1164 non-null   object \n",
      " 10  piso                 0 non-null      float64\n",
      " 11  CP                   1116 non-null   object \n",
      " 12  cod_area             989 non-null    float64\n",
      " 13  telefono             988 non-null    object \n",
      " 14  Mail                 286 non-null    object \n",
      " 15  Web                  80 non-null     object \n",
      " 16  Latitud              1182 non-null   float64\n",
      " 17  Longitud             1182 non-null   float64\n",
      " 18  TipoLatitudLongitud  1182 non-null   object \n",
      " 19  Info_adicional       10 non-null     object \n",
      " 20  fuente               1182 non-null   object \n",
      " 21  jurisdiccion         1085 non-null   object \n",
      " 22  año_inauguracion     643 non-null    float64\n",
      " 23  IDSInCA              1182 non-null   int64  \n",
      "dtypes: float64(6), int64(4), object(14)\n",
      "memory usage: 221.8+ KB\n",
      "<class 'pandas.core.frame.DataFrame'>\n",
      "RangeIndex: 1182 entries, 0 to 1181\n",
      "Data columns (total 24 columns):\n",
      " #   Column               Non-Null Count  Dtype  \n",
      "---  ------               --------------  -----  \n",
      " 0   Cod_localidad        1182 non-null   int64  \n",
      " 1   IdProvincia          1182 non-null   int64  \n",
      " 2   IdDepartamento       1182 non-null   int64  \n",
      " 3   Observaciones        0 non-null      float64\n",
      " 4   Categoría            1182 non-null   object \n",
      " 5   subcategoria         1048 non-null   object \n",
      " 6   Provincia            1182 non-null   object \n",
      " 7   Localidad            1182 non-null   object \n",
      " 8   Nombre               1182 non-null   object \n",
      " 9   Domicilio            1164 non-null   object \n",
      " 10  piso                 0 non-null      float64\n",
      " 11  Codigo_postal        1116 non-null   object \n",
      " 12  cod_area             989 non-null    float64\n",
      " 13  Teléfono             988 non-null    object \n",
      " 14  Mail                 286 non-null    object \n",
      " 15  Web                  80 non-null     object \n",
      " 16  Latitud              1182 non-null   float64\n",
      " 17  Longitud             1182 non-null   float64\n",
      " 18  TipoLatitudLongitud  1182 non-null   object \n",
      " 19  Info_adicional       10 non-null     object \n",
      " 20  fuente               1182 non-null   object \n",
      " 21  jurisdiccion         1085 non-null   object \n",
      " 22  año_inauguracion     643 non-null    float64\n",
      " 23  IDSInCA              1182 non-null   int64  \n",
      "dtypes: float64(6), int64(4), object(14)\n",
      "memory usage: 221.8+ KB\n"
     ]
    }
   ],
   "source": [
    "df1.info()\n",
    "df1 = df1.rename(columns={'Cod_Loc':'Cod_localidad','nombre':'Nombre', 'categoria':'Categoría', 'provincia':'Provincia','CP':'Codigo_postal','telefono':'Teléfono', 'direccion':'Domicilio', 'localidad':'Localidad'})\n",
    "df1.info()"
   ]
  },
  {
   "cell_type": "code",
   "execution_count": 10,
   "id": "6346115e",
   "metadata": {
    "ExecuteTime": {
     "end_time": "2022-03-07T20:11:19.791461Z",
     "start_time": "2022-03-07T20:11:19.759426Z"
    }
   },
   "outputs": [
    {
     "name": "stdout",
     "output_type": "stream",
     "text": [
      "<class 'pandas.core.frame.DataFrame'>\n",
      "RangeIndex: 1182 entries, 0 to 1181\n",
      "Data columns (total 12 columns):\n",
      " #   Column          Non-Null Count  Dtype \n",
      "---  ------          --------------  ----- \n",
      " 0   Cod_localidad   1182 non-null   int64 \n",
      " 1   IdProvincia     1182 non-null   int64 \n",
      " 2   IdDepartamento  1182 non-null   int64 \n",
      " 3   Categoría       1182 non-null   object\n",
      " 4   Provincia       1182 non-null   object\n",
      " 5   Localidad       1182 non-null   object\n",
      " 6   Nombre          1182 non-null   object\n",
      " 7   Domicilio       1164 non-null   object\n",
      " 8   Codigo_postal   1116 non-null   object\n",
      " 9   Teléfono        988 non-null    object\n",
      " 10  Mail            286 non-null    object\n",
      " 11  Web             80 non-null     object\n",
      "dtypes: int64(3), object(9)\n",
      "memory usage: 110.9+ KB\n"
     ]
    }
   ],
   "source": [
    "df1.drop(df1.columns[[3,5,16,12,10,17,18,19,20,21,22,23]], axis=1, inplace=True)\n",
    "#cod_localidad \n",
    "#id_provincia \n",
    "#id_departamento \n",
    "#categoría \n",
    "#provincia \n",
    "#localidad \n",
    "#nombre \n",
    "#domicilio \n",
    "#código postal \n",
    "#número de teléfono \n",
    "#mail \n",
    "#web\n",
    "df1.info()"
   ]
  },
  {
   "cell_type": "code",
   "execution_count": 11,
   "id": "6b1a40f1",
   "metadata": {
    "ExecuteTime": {
     "end_time": "2022-03-07T20:11:20.404890Z",
     "start_time": "2022-03-07T20:11:20.375919Z"
    }
   },
   "outputs": [
    {
     "data": {
      "text/html": [
       "<div>\n",
       "<style scoped>\n",
       "    .dataframe tbody tr th:only-of-type {\n",
       "        vertical-align: middle;\n",
       "    }\n",
       "\n",
       "    .dataframe tbody tr th {\n",
       "        vertical-align: top;\n",
       "    }\n",
       "\n",
       "    .dataframe thead th {\n",
       "        text-align: right;\n",
       "    }\n",
       "</style>\n",
       "<table border=\"1\" class=\"dataframe\">\n",
       "  <thead>\n",
       "    <tr style=\"text-align: right;\">\n",
       "      <th></th>\n",
       "      <th>Cod_localidad</th>\n",
       "      <th>IdProvincia</th>\n",
       "      <th>IdDepartamento</th>\n",
       "      <th>Categoría</th>\n",
       "      <th>Provincia</th>\n",
       "      <th>Localidad</th>\n",
       "      <th>Nombre</th>\n",
       "      <th>Domicilio</th>\n",
       "      <th>Codigo_postal</th>\n",
       "      <th>Teléfono</th>\n",
       "      <th>Mail</th>\n",
       "      <th>Web</th>\n",
       "    </tr>\n",
       "  </thead>\n",
       "  <tbody>\n",
       "    <tr>\n",
       "      <th>0</th>\n",
       "      <td>6588100</td>\n",
       "      <td>6</td>\n",
       "      <td>6588</td>\n",
       "      <td>Espacios de Exhibición Patrimonial</td>\n",
       "      <td>Buenos Aires</td>\n",
       "      <td>9 de Julio</td>\n",
       "      <td>Archivo Y Museo Histórico Gral. Julio De Vedia</td>\n",
       "      <td>Libertad 1191</td>\n",
       "      <td>B6500EVL</td>\n",
       "      <td>425 279</td>\n",
       "      <td>archivoymuseo@yahoo.com.ar</td>\n",
       "      <td>www.portaldel9.com.ar</td>\n",
       "    </tr>\n",
       "    <tr>\n",
       "      <th>1</th>\n",
       "      <td>6077010</td>\n",
       "      <td>6</td>\n",
       "      <td>6077</td>\n",
       "      <td>Espacios de Exhibición Patrimonial</td>\n",
       "      <td>Buenos Aires</td>\n",
       "      <td>Arrecifes</td>\n",
       "      <td>Museo Y Archivo Histórico De Arrecifes</td>\n",
       "      <td>Gerardo Risso y España</td>\n",
       "      <td>B2740FMJ</td>\n",
       "      <td>452 931</td>\n",
       "      <td>museoarrecifes@hotmail.com</td>\n",
       "      <td>NaN</td>\n",
       "    </tr>\n",
       "    <tr>\n",
       "      <th>2</th>\n",
       "      <td>6035010</td>\n",
       "      <td>6</td>\n",
       "      <td>6035</td>\n",
       "      <td>Espacios de Exhibición Patrimonial</td>\n",
       "      <td>Buenos Aires</td>\n",
       "      <td>Avellaneda</td>\n",
       "      <td>Museo Histórico-Sacro  Hno. Rogelio Scortegagna</td>\n",
       "      <td>Calle 11 (Av. San Martín) Nº 830</td>\n",
       "      <td>S3561AKT</td>\n",
       "      <td>481 200</td>\n",
       "      <td>NaN</td>\n",
       "      <td>NaN</td>\n",
       "    </tr>\n",
       "    <tr>\n",
       "      <th>3</th>\n",
       "      <td>6035010</td>\n",
       "      <td>6</td>\n",
       "      <td>6035</td>\n",
       "      <td>Espacios de Exhibición Patrimonial</td>\n",
       "      <td>Buenos Aires</td>\n",
       "      <td>Avellaneda</td>\n",
       "      <td>Museo Municipal De Artes Plásticas De Avellaneda</td>\n",
       "      <td>Sarmiento 101, 1 º Piso</td>\n",
       "      <td>B1870CBC</td>\n",
       "      <td>4205 9567</td>\n",
       "      <td>NaN</td>\n",
       "      <td>NaN</td>\n",
       "    </tr>\n",
       "    <tr>\n",
       "      <th>4</th>\n",
       "      <td>6049020</td>\n",
       "      <td>6</td>\n",
       "      <td>6049</td>\n",
       "      <td>Espacios de Exhibición Patrimonial</td>\n",
       "      <td>Buenos Aires</td>\n",
       "      <td>Azul</td>\n",
       "      <td>Museo Etnográfico Y Archivo Histórico Enrique ...</td>\n",
       "      <td>Bartolomé J. Ronco 654</td>\n",
       "      <td>B7300XAA</td>\n",
       "      <td>434 811</td>\n",
       "      <td>museoazul@yahoo.com</td>\n",
       "      <td>NaN</td>\n",
       "    </tr>\n",
       "  </tbody>\n",
       "</table>\n",
       "</div>"
      ],
      "text/plain": [
       "   Cod_localidad  IdProvincia  IdDepartamento  \\\n",
       "0        6588100            6            6588   \n",
       "1        6077010            6            6077   \n",
       "2        6035010            6            6035   \n",
       "3        6035010            6            6035   \n",
       "4        6049020            6            6049   \n",
       "\n",
       "                            Categoría     Provincia   Localidad  \\\n",
       "0  Espacios de Exhibición Patrimonial  Buenos Aires  9 de Julio   \n",
       "1  Espacios de Exhibición Patrimonial  Buenos Aires   Arrecifes   \n",
       "2  Espacios de Exhibición Patrimonial  Buenos Aires  Avellaneda   \n",
       "3  Espacios de Exhibición Patrimonial  Buenos Aires  Avellaneda   \n",
       "4  Espacios de Exhibición Patrimonial  Buenos Aires        Azul   \n",
       "\n",
       "                                              Nombre  \\\n",
       "0     Archivo Y Museo Histórico Gral. Julio De Vedia   \n",
       "1             Museo Y Archivo Histórico De Arrecifes   \n",
       "2    Museo Histórico-Sacro  Hno. Rogelio Scortegagna   \n",
       "3   Museo Municipal De Artes Plásticas De Avellaneda   \n",
       "4  Museo Etnográfico Y Archivo Histórico Enrique ...   \n",
       "\n",
       "                          Domicilio Codigo_postal   Teléfono  \\\n",
       "0                     Libertad 1191      B6500EVL    425 279   \n",
       "1            Gerardo Risso y España      B2740FMJ    452 931   \n",
       "2  Calle 11 (Av. San Martín) Nº 830      S3561AKT    481 200   \n",
       "3           Sarmiento 101, 1 º Piso      B1870CBC  4205 9567   \n",
       "4            Bartolomé J. Ronco 654      B7300XAA    434 811   \n",
       "\n",
       "                         Mail                    Web  \n",
       "0  archivoymuseo@yahoo.com.ar  www.portaldel9.com.ar  \n",
       "1  museoarrecifes@hotmail.com                    NaN  \n",
       "2                         NaN                    NaN  \n",
       "3                         NaN                    NaN  \n",
       "4         museoazul@yahoo.com                    NaN  "
      ]
     },
     "execution_count": 11,
     "metadata": {},
     "output_type": "execute_result"
    }
   ],
   "source": [
    "df1.head()"
   ]
  },
  {
   "cell_type": "code",
   "execution_count": 34,
   "id": "bab8d73a",
   "metadata": {
    "ExecuteTime": {
     "end_time": "2022-03-07T05:45:32.180774Z",
     "start_time": "2022-03-07T05:45:32.116535Z"
    }
   },
   "outputs": [],
   "source": [
    "df1.to_csv('museo_tratado.csv',index=False)"
   ]
  },
  {
   "cell_type": "code",
   "execution_count": null,
   "id": "17c23fed",
   "metadata": {},
   "outputs": [],
   "source": []
  }
 ],
 "metadata": {
  "kernelspec": {
   "display_name": "Aloric",
   "language": "python",
   "name": "aloric"
  },
  "language_info": {
   "codemirror_mode": {
    "name": "ipython",
    "version": 3
   },
   "file_extension": ".py",
   "mimetype": "text/x-python",
   "name": "python",
   "nbconvert_exporter": "python",
   "pygments_lexer": "ipython3",
   "version": "3.10.0"
  },
  "nbTranslate": {
   "displayLangs": [
    "*"
   ],
   "hotkey": "alt-t",
   "langInMainMenu": true,
   "sourceLang": "en",
   "targetLang": "fr",
   "useGoogleTranslate": true
  },
  "varInspector": {
   "cols": {
    "lenName": 16,
    "lenType": 16,
    "lenVar": 40
   },
   "kernels_config": {
    "python": {
     "delete_cmd_postfix": "",
     "delete_cmd_prefix": "del ",
     "library": "var_list.py",
     "varRefreshCmd": "print(var_dic_list())"
    },
    "r": {
     "delete_cmd_postfix": ") ",
     "delete_cmd_prefix": "rm(",
     "library": "var_list.r",
     "varRefreshCmd": "cat(var_dic_list()) "
    }
   },
   "types_to_exclude": [
    "module",
    "function",
    "builtin_function_or_method",
    "instance",
    "_Feature"
   ],
   "window_display": false
  }
 },
 "nbformat": 4,
 "nbformat_minor": 5
}
