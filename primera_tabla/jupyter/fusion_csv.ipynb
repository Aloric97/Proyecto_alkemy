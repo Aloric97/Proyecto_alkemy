{
 "cells": [
  {
   "cell_type": "code",
   "execution_count": 6,
   "id": "7e2fe9d4",
   "metadata": {
    "ExecuteTime": {
     "end_time": "2022-03-08T04:20:00.337596Z",
     "start_time": "2022-03-08T04:20:00.332834Z"
    }
   },
   "outputs": [],
   "source": [
    "import pandas as pd\n",
    "from sqlalchemy import create_engine"
   ]
  },
  {
   "cell_type": "code",
   "execution_count": 7,
   "id": "45cf8ba1",
   "metadata": {
    "ExecuteTime": {
     "end_time": "2022-03-08T04:20:00.716497Z",
     "start_time": "2022-03-08T04:20:00.677153Z"
    }
   },
   "outputs": [],
   "source": [
    "df1=pd.read_csv('museo_tratado.csv')\n",
    "df2= pd.read_csv('cine_tratado.csv')\n",
    "df3= pd.read_csv('biblioteca_tratado.csv')"
   ]
  },
  {
   "cell_type": "code",
   "execution_count": 8,
   "id": "31b42938",
   "metadata": {
    "ExecuteTime": {
     "end_time": "2022-03-08T04:20:00.858211Z",
     "start_time": "2022-03-08T04:20:00.845196Z"
    }
   },
   "outputs": [],
   "source": [
    "df2['Codigo_postal'] = df2['Codigo_postal'].astype('object') #convertir a tipo object debido a que nuestros otros archivos trabajar con este tipo\n",
    "df3['Web'] = df3['Web'].astype('object') #convertir a tipo object debido a que nuestros otros archivos trabajar con este \n",
    "df2 = df2.rename(columns={'Dirección':'Domicilio'})"
   ]
  },
  {
   "cell_type": "code",
   "execution_count": 9,
   "id": "a08dc294",
   "metadata": {
    "ExecuteTime": {
     "end_time": "2022-03-08T04:20:01.031561Z",
     "start_time": "2022-03-08T04:20:01.013093Z"
    }
   },
   "outputs": [
    {
     "name": "stdout",
     "output_type": "stream",
     "text": [
      "<class 'pandas.core.frame.DataFrame'>\n",
      "RangeIndex: 1182 entries, 0 to 1181\n",
      "Data columns (total 12 columns):\n",
      " #   Column          Non-Null Count  Dtype \n",
      "---  ------          --------------  ----- \n",
      " 0   Cod_localidad   1182 non-null   int64 \n",
      " 1   IdProvincia     1182 non-null   int64 \n",
      " 2   IdDepartamento  1182 non-null   int64 \n",
      " 3   Categoría       1182 non-null   object\n",
      " 4   Provincia       1182 non-null   object\n",
      " 5   Localidad       1182 non-null   object\n",
      " 6   Nombre          1182 non-null   object\n",
      " 7   Domicilio       1164 non-null   object\n",
      " 8   Codigo_postal   1116 non-null   object\n",
      " 9   Teléfono        988 non-null    object\n",
      " 10  Mail            286 non-null    object\n",
      " 11  Web             80 non-null     object\n",
      "dtypes: int64(3), object(9)\n",
      "memory usage: 110.9+ KB\n"
     ]
    }
   ],
   "source": [
    "df1.info()"
   ]
  },
  {
   "cell_type": "code",
   "execution_count": 10,
   "id": "9e3a0ff7",
   "metadata": {
    "ExecuteTime": {
     "end_time": "2022-03-08T04:20:01.485504Z",
     "start_time": "2022-03-08T04:20:01.470616Z"
    }
   },
   "outputs": [
    {
     "name": "stdout",
     "output_type": "stream",
     "text": [
      "<class 'pandas.core.frame.DataFrame'>\n",
      "RangeIndex: 329 entries, 0 to 328\n",
      "Data columns (total 12 columns):\n",
      " #   Column          Non-Null Count  Dtype \n",
      "---  ------          --------------  ----- \n",
      " 0   Cod_localidad   329 non-null    int64 \n",
      " 1   IdProvincia     329 non-null    int64 \n",
      " 2   IdDepartamento  329 non-null    int64 \n",
      " 3   Categoría       329 non-null    object\n",
      " 4   Provincia       329 non-null    object\n",
      " 5   Localidad       329 non-null    object\n",
      " 6   Nombre          329 non-null    object\n",
      " 7   Domicilio       329 non-null    object\n",
      " 8   Codigo_postal   329 non-null    object\n",
      " 9   Teléfono        329 non-null    object\n",
      " 10  Mail            329 non-null    object\n",
      " 11  Web             329 non-null    object\n",
      "dtypes: int64(3), object(9)\n",
      "memory usage: 31.0+ KB\n"
     ]
    }
   ],
   "source": [
    "df2.info()"
   ]
  },
  {
   "cell_type": "code",
   "execution_count": 11,
   "id": "ad67ac8f",
   "metadata": {
    "ExecuteTime": {
     "end_time": "2022-03-08T04:20:01.952124Z",
     "start_time": "2022-03-08T04:20:01.934264Z"
    }
   },
   "outputs": [
    {
     "name": "stdout",
     "output_type": "stream",
     "text": [
      "<class 'pandas.core.frame.DataFrame'>\n",
      "RangeIndex: 2017 entries, 0 to 2016\n",
      "Data columns (total 12 columns):\n",
      " #   Column          Non-Null Count  Dtype \n",
      "---  ------          --------------  ----- \n",
      " 0   Cod_localidad   2017 non-null   int64 \n",
      " 1   IdProvincia     2017 non-null   int64 \n",
      " 2   IdDepartamento  2017 non-null   int64 \n",
      " 3   Categoría       2017 non-null   object\n",
      " 4   Provincia       2017 non-null   object\n",
      " 5   Localidad       2017 non-null   object\n",
      " 6   Nombre          2017 non-null   object\n",
      " 7   Domicilio       2017 non-null   object\n",
      " 8   Codigo_postal   2017 non-null   object\n",
      " 9   Teléfono        2017 non-null   object\n",
      " 10  Mail            2017 non-null   object\n",
      " 11  Web             0 non-null      object\n",
      "dtypes: int64(3), object(9)\n",
      "memory usage: 189.2+ KB\n"
     ]
    }
   ],
   "source": [
    "df3.info()"
   ]
  },
  {
   "cell_type": "code",
   "execution_count": 21,
   "id": "8dd2b4d2",
   "metadata": {
    "ExecuteTime": {
     "end_time": "2022-03-08T04:21:55.888050Z",
     "start_time": "2022-03-08T04:21:55.864025Z"
    }
   },
   "outputs": [],
   "source": [
    "fusion = [df1, df2,df3]\n",
    "archivo_final = pd.concat(fusion)"
   ]
  },
  {
   "cell_type": "code",
   "execution_count": 22,
   "id": "3a9c1daa",
   "metadata": {
    "ExecuteTime": {
     "end_time": "2022-03-08T04:21:56.357230Z",
     "start_time": "2022-03-08T04:21:56.335231Z"
    }
   },
   "outputs": [
    {
     "name": "stdout",
     "output_type": "stream",
     "text": [
      "<class 'pandas.core.frame.DataFrame'>\n",
      "Int64Index: 3528 entries, 0 to 2016\n",
      "Data columns (total 12 columns):\n",
      " #   Column          Non-Null Count  Dtype \n",
      "---  ------          --------------  ----- \n",
      " 0   Cod_localidad   3528 non-null   int64 \n",
      " 1   IdProvincia     3528 non-null   int64 \n",
      " 2   IdDepartamento  3528 non-null   int64 \n",
      " 3   Categoría       3528 non-null   object\n",
      " 4   Provincia       3528 non-null   object\n",
      " 5   Localidad       3528 non-null   object\n",
      " 6   Nombre          3528 non-null   object\n",
      " 7   Domicilio       3510 non-null   object\n",
      " 8   Codigo_postal   3462 non-null   object\n",
      " 9   Teléfono        3334 non-null   object\n",
      " 10  Mail            2632 non-null   object\n",
      " 11  Web             409 non-null    object\n",
      "dtypes: int64(3), object(9)\n",
      "memory usage: 358.3+ KB\n"
     ]
    }
   ],
   "source": [
    "archivo_final.info()"
   ]
  },
  {
   "cell_type": "code",
   "execution_count": 20,
   "id": "4a06f998",
   "metadata": {
    "ExecuteTime": {
     "end_time": "2022-03-08T04:21:29.942088Z",
     "start_time": "2022-03-08T04:21:29.921962Z"
    }
   },
   "outputs": [
    {
     "name": "stdout",
     "output_type": "stream",
     "text": [
      "<class 'pandas.core.frame.DataFrame'>\n",
      "Int64Index: 3528 entries, 0 to 2016\n",
      "Data columns (total 14 columns):\n",
      " #   Column          Non-Null Count  Dtype         \n",
      "---  ------          --------------  -----         \n",
      " 0   Cod_localidad   3528 non-null   int64         \n",
      " 1   IdProvincia     3528 non-null   int64         \n",
      " 2   IdDepartamento  3528 non-null   int64         \n",
      " 3   Categoría       3528 non-null   object        \n",
      " 4   Provincia       3528 non-null   object        \n",
      " 5   Localidad       3528 non-null   object        \n",
      " 6   Nombre          3528 non-null   object        \n",
      " 7   Domicilio       3510 non-null   object        \n",
      " 8   Codigo_postal   3462 non-null   object        \n",
      " 9   Teléfono        3334 non-null   object        \n",
      " 10  Mail            2632 non-null   object        \n",
      " 11  Web             409 non-null    object        \n",
      " 12  today           3528 non-null   datetime64[ns]\n",
      " 13  fecha_carga     3528 non-null   datetime64[ns]\n",
      "dtypes: datetime64[ns](2), int64(3), object(9)\n",
      "memory usage: 413.4+ KB\n"
     ]
    }
   ],
   "source": [
    "archivo_final=archivo_final.assign(fecha_carga = pd.to_datetime(\"today\"))\n",
    "archivo_final.info()"
   ]
  },
  {
   "cell_type": "code",
   "execution_count": 60,
   "id": "fbde4481",
   "metadata": {
    "ExecuteTime": {
     "end_time": "2022-03-07T06:00:58.718493Z",
     "start_time": "2022-03-07T06:00:58.599500Z"
    }
   },
   "outputs": [],
   "source": [
    "archivo_final.to_csv('archivo_final.csv',index=False)"
   ]
  }
 ],
 "metadata": {
  "kernelspec": {
   "display_name": "Aloric",
   "language": "python",
   "name": "aloric"
  },
  "language_info": {
   "codemirror_mode": {
    "name": "ipython",
    "version": 3
   },
   "file_extension": ".py",
   "mimetype": "text/x-python",
   "name": "python",
   "nbconvert_exporter": "python",
   "pygments_lexer": "ipython3",
   "version": "3.10.0"
  },
  "nbTranslate": {
   "displayLangs": [
    "*"
   ],
   "hotkey": "alt-t",
   "langInMainMenu": true,
   "sourceLang": "en",
   "targetLang": "fr",
   "useGoogleTranslate": true
  },
  "varInspector": {
   "cols": {
    "lenName": 16,
    "lenType": 16,
    "lenVar": 40
   },
   "kernels_config": {
    "python": {
     "delete_cmd_postfix": "",
     "delete_cmd_prefix": "del ",
     "library": "var_list.py",
     "varRefreshCmd": "print(var_dic_list())"
    },
    "r": {
     "delete_cmd_postfix": ") ",
     "delete_cmd_prefix": "rm(",
     "library": "var_list.r",
     "varRefreshCmd": "cat(var_dic_list()) "
    }
   },
   "types_to_exclude": [
    "module",
    "function",
    "builtin_function_or_method",
    "instance",
    "_Feature"
   ],
   "window_display": false
  }
 },
 "nbformat": 4,
 "nbformat_minor": 5
}
